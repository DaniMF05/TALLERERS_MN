{
 "cells": [
  {
   "cell_type": "markdown",
   "id": "cc72992c",
   "metadata": {},
   "source": [
    "# TALLER 02\n",
    "\n",
    "- Joshua Daniel Menendez Farias\n",
    "- Miguel Angel Robles Velez"
   ]
  },
  {
   "cell_type": "code",
   "execution_count": null,
   "id": "d240a43b",
   "metadata": {},
   "outputs": [],
   "source": []
  }
 ],
 "metadata": {
  "language_info": {
   "name": "python"
  }
 },
 "nbformat": 4,
 "nbformat_minor": 5
}
